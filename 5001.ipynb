{
 "cells": [
  {
   "cell_type": "code",
   "execution_count": 57,
   "metadata": {},
   "outputs": [],
   "source": [
    "import numpy as np\n",
    "import pandas as pd\n",
    "\n",
    "import requests\n",
    "from bs4 import BeautifulSoup\n",
    "\n",
    "import datetime\n",
    "import matplotlib.pyplot as plt\n",
    "import seaborn as sns\n",
    "\n",
    "import xgboost as xgb\n",
    "from xgboost import XGBRegressor\n",
    "from sklearn.metrics import mean_squared_error\n",
    "from sklearn.ensemble import RandomForestRegressor\n",
    "\n",
    "from sklearn.metrics import mean_squared_error"
   ]
  },
  {
   "cell_type": "code",
   "execution_count": 58,
   "metadata": {},
   "outputs": [
    {
     "data": {
      "text/html": [
       "<div>\n",
       "<style scoped>\n",
       "    .dataframe tbody tr th:only-of-type {\n",
       "        vertical-align: middle;\n",
       "    }\n",
       "\n",
       "    .dataframe tbody tr th {\n",
       "        vertical-align: top;\n",
       "    }\n",
       "\n",
       "    .dataframe thead th {\n",
       "        text-align: right;\n",
       "    }\n",
       "</style>\n",
       "<table border=\"1\" class=\"dataframe\">\n",
       "  <thead>\n",
       "    <tr style=\"text-align: right;\">\n",
       "      <th></th>\n",
       "      <th>id</th>\n",
       "      <th>date</th>\n",
       "      <th>speed</th>\n",
       "    </tr>\n",
       "  </thead>\n",
       "  <tbody>\n",
       "    <tr>\n",
       "      <th>0</th>\n",
       "      <td>0</td>\n",
       "      <td>1/1/2017 0:00</td>\n",
       "      <td>43.002930</td>\n",
       "    </tr>\n",
       "    <tr>\n",
       "      <th>1</th>\n",
       "      <td>1</td>\n",
       "      <td>1/1/2017 1:00</td>\n",
       "      <td>46.118696</td>\n",
       "    </tr>\n",
       "    <tr>\n",
       "      <th>2</th>\n",
       "      <td>2</td>\n",
       "      <td>1/1/2017 2:00</td>\n",
       "      <td>44.294158</td>\n",
       "    </tr>\n",
       "    <tr>\n",
       "      <th>3</th>\n",
       "      <td>3</td>\n",
       "      <td>1/1/2017 3:00</td>\n",
       "      <td>41.067468</td>\n",
       "    </tr>\n",
       "    <tr>\n",
       "      <th>4</th>\n",
       "      <td>4</td>\n",
       "      <td>1/1/2017 4:00</td>\n",
       "      <td>46.448653</td>\n",
       "    </tr>\n",
       "  </tbody>\n",
       "</table>\n",
       "</div>"
      ],
      "text/plain": [
       "   id           date      speed\n",
       "0   0  1/1/2017 0:00  43.002930\n",
       "1   1  1/1/2017 1:00  46.118696\n",
       "2   2  1/1/2017 2:00  44.294158\n",
       "3   3  1/1/2017 3:00  41.067468\n",
       "4   4  1/1/2017 4:00  46.448653"
      ]
     },
     "execution_count": 58,
     "metadata": {},
     "output_type": "execute_result"
    }
   ],
   "source": [
    "train = pd.read_csv('./downloads/train.csv')\n",
    "test = pd.read_csv('./downloads/test.csv')\n",
    "train.head()"
   ]
  },
  {
   "cell_type": "code",
   "execution_count": 59,
   "metadata": {},
   "outputs": [
    {
     "data": {
      "text/plain": [
       "id       0\n",
       "date     0\n",
       "speed    0\n",
       "dtype: int64"
      ]
     },
     "execution_count": 59,
     "metadata": {},
     "output_type": "execute_result"
    }
   ],
   "source": [
    "train.isnull().sum(axis = 0)"
   ]
  },
  {
   "cell_type": "code",
   "execution_count": 60,
   "metadata": {},
   "outputs": [
    {
     "data": {
      "text/plain": [
       "id      0\n",
       "date    0\n",
       "dtype: int64"
      ]
     },
     "execution_count": 60,
     "metadata": {},
     "output_type": "execute_result"
    }
   ],
   "source": [
    "test.isnull().sum(axis = 0)"
   ]
  },
  {
   "cell_type": "code",
   "execution_count": 61,
   "metadata": {},
   "outputs": [
    {
     "data": {
      "text/html": [
       "<div>\n",
       "<style scoped>\n",
       "    .dataframe tbody tr th:only-of-type {\n",
       "        vertical-align: middle;\n",
       "    }\n",
       "\n",
       "    .dataframe tbody tr th {\n",
       "        vertical-align: top;\n",
       "    }\n",
       "\n",
       "    .dataframe thead th {\n",
       "        text-align: right;\n",
       "    }\n",
       "</style>\n",
       "<table border=\"1\" class=\"dataframe\">\n",
       "  <thead>\n",
       "    <tr style=\"text-align: right;\">\n",
       "      <th></th>\n",
       "      <th>id</th>\n",
       "      <th>date</th>\n",
       "      <th>year</th>\n",
       "      <th>month</th>\n",
       "      <th>day</th>\n",
       "      <th>time</th>\n",
       "      <th>datetime</th>\n",
       "      <th>IsWeekend</th>\n",
       "    </tr>\n",
       "  </thead>\n",
       "  <tbody>\n",
       "    <tr>\n",
       "      <th>0</th>\n",
       "      <td>0</td>\n",
       "      <td>1/1/2018 2:00</td>\n",
       "      <td>2017</td>\n",
       "      <td>1</td>\n",
       "      <td>1</td>\n",
       "      <td>0</td>\n",
       "      <td>2017-01-01 00:00:00</td>\n",
       "      <td>1</td>\n",
       "    </tr>\n",
       "    <tr>\n",
       "      <th>1</th>\n",
       "      <td>1</td>\n",
       "      <td>1/1/2018 5:00</td>\n",
       "      <td>2017</td>\n",
       "      <td>1</td>\n",
       "      <td>1</td>\n",
       "      <td>1</td>\n",
       "      <td>2017-01-01 01:00:00</td>\n",
       "      <td>1</td>\n",
       "    </tr>\n",
       "    <tr>\n",
       "      <th>2</th>\n",
       "      <td>2</td>\n",
       "      <td>1/1/2018 7:00</td>\n",
       "      <td>2017</td>\n",
       "      <td>1</td>\n",
       "      <td>1</td>\n",
       "      <td>2</td>\n",
       "      <td>2017-01-01 02:00:00</td>\n",
       "      <td>1</td>\n",
       "    </tr>\n",
       "    <tr>\n",
       "      <th>3</th>\n",
       "      <td>3</td>\n",
       "      <td>1/1/2018 8:00</td>\n",
       "      <td>2017</td>\n",
       "      <td>1</td>\n",
       "      <td>1</td>\n",
       "      <td>3</td>\n",
       "      <td>2017-01-01 03:00:00</td>\n",
       "      <td>1</td>\n",
       "    </tr>\n",
       "    <tr>\n",
       "      <th>4</th>\n",
       "      <td>4</td>\n",
       "      <td>1/1/2018 10:00</td>\n",
       "      <td>2017</td>\n",
       "      <td>1</td>\n",
       "      <td>1</td>\n",
       "      <td>4</td>\n",
       "      <td>2017-01-01 04:00:00</td>\n",
       "      <td>1</td>\n",
       "    </tr>\n",
       "  </tbody>\n",
       "</table>\n",
       "</div>"
      ],
      "text/plain": [
       "   id            date  year  month  day  time            datetime  IsWeekend\n",
       "0   0   1/1/2018 2:00  2017      1    1     0 2017-01-01 00:00:00          1\n",
       "1   1   1/1/2018 5:00  2017      1    1     1 2017-01-01 01:00:00          1\n",
       "2   2   1/1/2018 7:00  2017      1    1     2 2017-01-01 02:00:00          1\n",
       "3   3   1/1/2018 8:00  2017      1    1     3 2017-01-01 03:00:00          1\n",
       "4   4  1/1/2018 10:00  2017      1    1     4 2017-01-01 04:00:00          1"
      ]
     },
     "execution_count": 61,
     "metadata": {},
     "output_type": "execute_result"
    }
   ],
   "source": [
    "trset=train.copy()\n",
    "trset.drop('id',axis=1,inplace=True)\n",
    "trset['year']=trset['date'].apply(lambda y:int(y.split()[0].split('/')[2]))\n",
    "trset['month']=trset['date'].apply(lambda m:int(m.split()[0].split('/')[1]))\n",
    "trset['day']=trset['date'].apply(lambda d:int(d.split()[0].split('/')[0]))\n",
    "trset['time']=trset['date'].apply(lambda t:int(t.split()[1].split(':')[0]))\n",
    "trset['datetime']=trset['date'].apply(lambda x:\n",
    "            datetime.datetime(  int(x.split()[0].split('/')[2]),\n",
    "                int(x.split()[0].split('/')[1]),\n",
    "                int(x.split()[0].split('/')[0]),\n",
    "                int(x.split()[1].split(':')[0])  )\n",
    "                                           )\n",
    "trset['IsWeekend']=trset['datetime'].apply(lambda x:0 if x.weekday() in [0,1,2,3,4] else 1)\n",
    "\n",
    "ttset=test.copy()\n",
    "\n",
    "ttset['year']=trset['date'].apply(lambda y:int(y.split()[0].split('/')[2]))\n",
    "ttset['month']=trset['date'].apply(lambda m:int(m.split()[0].split('/')[1]))\n",
    "ttset['day']=trset['date'].apply(lambda d:int(d.split()[0].split('/')[0]))\n",
    "ttset['time']=trset['date'].apply(lambda t:int(t.split()[1].split(':')[0]))\n",
    "ttset['datetime']=trset['date'].apply(lambda x:\n",
    "            datetime.datetime(  int(x.split()[0].split('/')[2]),\n",
    "                int(x.split()[0].split('/')[1]),\n",
    "                int(x.split()[0].split('/')[0]),\n",
    "                int(x.split()[1].split(':')[0])  )\n",
    "                                           )\n",
    "ttset['IsWeekend']=trset['datetime'].apply(lambda x:0 if x.weekday() in [0,1,2,3,4] else 1)\n",
    "trset.head()\n",
    "ttset.head()"
   ]
  },
  {
   "cell_type": "code",
   "execution_count": 62,
   "metadata": {},
   "outputs": [
    {
     "data": {
      "image/png": "[encoded data removed]",
      "text/plain": [
       "<Figure size 576x432 with 1 Axes>"
      ]
     },
     "metadata": {
      "needs_background": "light"
     },
     "output_type": "display_data"
    }
   ],
   "source": [
    "tm = trset.groupby('day').aggregate({'speed':'mean'})\n",
    "plt.figure(figsize=(8,6))\n",
    "sns.lineplot(x=tm.index,y=tm.speed,data=tm,palette=\"Set2\")\n",
    "plt.show()"
   ]
  },
  {
   "cell_type": "code",
   "execution_count": 63,
   "metadata": {},
   "outputs": [
    {
     "data": {
      "text/html": [
       "<div>\n",
       "<style scoped>\n",
       "    .dataframe tbody tr th:only-of-type {\n",
       "        vertical-align: middle;\n",
       "    }\n",
       "\n",
       "    .dataframe tbody tr th {\n",
       "        vertical-align: top;\n",
       "    }\n",
       "\n",
       "    .dataframe thead th {\n",
       "        text-align: right;\n",
       "    }\n",
       "</style>\n",
       "<table border=\"1\" class=\"dataframe\">\n",
       "  <thead>\n",
       "    <tr style=\"text-align: right;\">\n",
       "      <th></th>\n",
       "      <th>id</th>\n",
       "      <th>year</th>\n",
       "      <th>month</th>\n",
       "      <th>day</th>\n",
       "      <th>time</th>\n",
       "      <th>IsWeekend</th>\n",
       "    </tr>\n",
       "  </thead>\n",
       "  <tbody>\n",
       "    <tr>\n",
       "      <th>0</th>\n",
       "      <td>0</td>\n",
       "      <td>2017</td>\n",
       "      <td>1</td>\n",
       "      <td>1</td>\n",
       "      <td>0</td>\n",
       "      <td>1</td>\n",
       "    </tr>\n",
       "    <tr>\n",
       "      <th>1</th>\n",
       "      <td>1</td>\n",
       "      <td>2017</td>\n",
       "      <td>1</td>\n",
       "      <td>1</td>\n",
       "      <td>1</td>\n",
       "      <td>1</td>\n",
       "    </tr>\n",
       "    <tr>\n",
       "      <th>2</th>\n",
       "      <td>2</td>\n",
       "      <td>2017</td>\n",
       "      <td>1</td>\n",
       "      <td>1</td>\n",
       "      <td>2</td>\n",
       "      <td>1</td>\n",
       "    </tr>\n",
       "    <tr>\n",
       "      <th>3</th>\n",
       "      <td>3</td>\n",
       "      <td>2017</td>\n",
       "      <td>1</td>\n",
       "      <td>1</td>\n",
       "      <td>3</td>\n",
       "      <td>1</td>\n",
       "    </tr>\n",
       "    <tr>\n",
       "      <th>4</th>\n",
       "      <td>4</td>\n",
       "      <td>2017</td>\n",
       "      <td>1</td>\n",
       "      <td>1</td>\n",
       "      <td>4</td>\n",
       "      <td>1</td>\n",
       "    </tr>\n",
       "  </tbody>\n",
       "</table>\n",
       "</div>"
      ],
      "text/plain": [
       "   id  year  month  day  time  IsWeekend\n",
       "0   0  2017      1    1     0          1\n",
       "1   1  2017      1    1     1          1\n",
       "2   2  2017      1    1     2          1\n",
       "3   3  2017      1    1     3          1\n",
       "4   4  2017      1    1     4          1"
      ]
     },
     "execution_count": 63,
     "metadata": {},
     "output_type": "execute_result"
    }
   ],
   "source": [
    "trset = trset.drop('datetime',axis = 1)\n",
    "trset = trset.drop('date',axis = 1)\n",
    "ttset = ttset.drop('datetime',axis = 1)\n",
    "ttset = ttset.drop('date',axis = 1)\n",
    "trset.head()\n",
    "ttset.head()"
   ]
  },
  {
   "cell_type": "code",
   "execution_count": 64,
   "metadata": {},
   "outputs": [
    {
     "name": "stdout",
     "output_type": "stream",
     "text": [
      "5.99926267720041\n"
     ]
    }
   ],
   "source": [
    "#target=['speed']\n",
    "#cat_vars=['IsWeekend']\n",
    "#num_vars=['year','month','day','time']\n",
    "if __name__ == \"__main__\":\n",
    "    label = trset[\"speed\"].astype(\"float64\")\n",
    "    trfeature = trset.drop([\"speed\"], axis=1)\n",
    "\n",
    "    model = xgb.XGBRegressor(max_depth=7, learning_rate=0.3, n_estimators=160)\n",
    "    model.fit(trfeature, label)\n",
    "\n",
    "    test_id = ttset[\"id\"]\n",
    "    \n",
    "    loss = mean_squared_error(label, model.predict(trfeature))\n",
    "    print(loss)\n",
    "    ttset.drop('id',axis=1,inplace=True)\n",
    "    #print(ttset.head())\n",
    "    predict = model.predict(ttset)\n",
    "\n",
    "    result_len = len(predict)\n",
    "    #test_id = ttset[\"id\"]\n",
    "    prediction_result = []\n",
    "    for row in range(0, result_len):\n",
    "        prediction_result.append([int(test_id[row]), predict[row]])\n",
    "    np_data = np.array(prediction_result)\n",
    "\n",
    "    pd_data = pd.DataFrame(np_data, columns=['id', 'speed'])\n",
    "    pd_data.id = pd_data.id.apply(int)\n",
    "    # print(pd_data)\n",
    "    pd_data.to_csv('./5012 NOTEBOOKS/result.csv', index=None)"
   ]
  }
 ],
 "metadata": {
  "kernelspec": {
   "display_name": "Python 3",
   "language": "python",
   "name": "python3"
  },
  "language_info": {
   "codemirror_mode": {
    "name": "ipython",
    "version": 3
   },
   "file_extension": ".py",
   "mimetype": "text/x-python",
   "name": "python",
   "nbconvert_exporter": "python",
   "pygments_lexer": "ipython3",
   "version": "3.8.3"
  }
 },
 "nbformat": 4,
 "nbformat_minor": 4
}
